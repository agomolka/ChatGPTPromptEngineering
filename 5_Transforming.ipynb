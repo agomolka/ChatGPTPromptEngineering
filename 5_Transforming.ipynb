{
 "cells": [
  {
   "cell_type": "markdown",
   "id": "c3ea0b50",
   "metadata": {},
   "source": [
    "# Transforming\n",
    "\n",
    "In this notebook, we will explore how to use Large Language Models for text transformation tasks such as language translation, spelling and grammar checking, tone adjustment, and format conversion.\n",
    "\n",
    "## Setup"
   ]
  },
  {
   "cell_type": "code",
   "execution_count": null,
   "id": "15f30de8",
   "metadata": {},
   "outputs": [],
   "source": [
    "import openai\n",
    "import os\n",
    "\n",
    "from dotenv import load_dotenv, find_dotenv\n",
    "_ = load_dotenv(find_dotenv()) # read local .env file\n",
    "\n",
    "openai.api_key  = os.getenv('OPENAI_API_KEY')"
   ]
  },
  {
   "cell_type": "code",
   "execution_count": null,
   "id": "2707de75",
   "metadata": {},
   "outputs": [],
   "source": [
    "def get_completion(prompt, model=\"gpt-3.5-turbo\", temperature=0): \n",
    "    messages = [{\"role\": \"user\", \"content\": prompt}]\n",
    "    response = openai.ChatCompletion.create(\n",
    "        model=model,\n",
    "        messages=messages,\n",
    "        temperature=temperature, \n",
    "    )\n",
    "    return response.choices[0].message[\"content\"]"
   ]
  },
  {
   "cell_type": "markdown",
   "id": "bef1713f",
   "metadata": {},
   "source": [
    "## Translation\n",
    "\n",
    "ChatGPT is trained with sources in many languages. This gives the model the ability to do translation. Here are some examples of how to use this capability."
   ]
  },
  {
   "cell_type": "code",
   "execution_count": null,
   "id": "b6d190f6",
   "metadata": {},
   "outputs": [],
   "source": [
    "prompt = f\"\"\"\n",
    "Translate the following English text to Spanish: \\ \n",
    "```Hi, I would like to order a blender```\n",
    "\"\"\"\n",
    "response = get_completion(prompt)\n",
    "print(response)"
   ]
  },
  {
   "cell_type": "markdown",
   "id": "5ca0d3d3",
   "metadata": {},
   "source": [
    "OUTPUT: Hola, me gustaría ordenar una licuadora."
   ]
  },
  {
   "cell_type": "code",
   "execution_count": null,
   "id": "067538fc",
   "metadata": {},
   "outputs": [],
   "source": [
    "prompt = f\"\"\"\n",
    "Tell me which language this is: \n",
    "```Combien coûte le lampadaire?```\n",
    "\"\"\"\n",
    "response = get_completion(prompt)\n",
    "print(response)"
   ]
  },
  {
   "cell_type": "markdown",
   "id": "673d97fe",
   "metadata": {},
   "source": [
    "OUTPUT: This language is French."
   ]
  },
  {
   "cell_type": "code",
   "execution_count": null,
   "id": "1eb4da69",
   "metadata": {},
   "outputs": [],
   "source": [
    "prompt = f\"\"\"\n",
    "Translate the following  text to French and Spanish\n",
    "and English pirate: \\\n",
    "```I want to order a basketball```\n",
    "\"\"\"\n",
    "response = get_completion(prompt)\n",
    "print(response)"
   ]
  },
  {
   "cell_type": "markdown",
   "id": "98e5ea7b",
   "metadata": {},
   "source": [
    "OUTPUT:<br>\n",
    "French: ```Je veux commander un ballon de basket```<br>\n",
    "Spanish: ```Quiero ordenar una pelota de baloncesto```<br>\n",
    "English: ```I want to order a basketball```<br>\n"
   ]
  },
  {
   "cell_type": "code",
   "execution_count": null,
   "id": "eddd4c5e",
   "metadata": {},
   "outputs": [],
   "source": [
    "prompt = f\"\"\"\n",
    "Translate the following text to Spanish in both the \\\n",
    "formal and informal forms: \n",
    "'Would you like to order a pillow?'\n",
    "\"\"\"\n",
    "response = get_completion(prompt)\n",
    "print(response)"
   ]
  },
  {
   "cell_type": "markdown",
   "id": "f20e11e7",
   "metadata": {},
   "source": [
    "OUTPUT: <br>\n",
    "Formal: ¿Le gustaría ordenar una almohada?<br>\n",
    "Informal: ¿Te gustaría ordenar una almohada?<br>"
   ]
  },
  {
   "cell_type": "markdown",
   "id": "e3d4f020",
   "metadata": {},
   "source": [
    "### Universal Translator\n",
    "Imagine you are in charge of IT at a large multinational e-commerce company. Users are messaging you with IT issues in all their native languages. Your staff is from all over the world and speaks only their native languages. You need a universal translator!"
   ]
  },
  {
   "cell_type": "code",
   "execution_count": null,
   "id": "cc77477e",
   "metadata": {},
   "outputs": [],
   "source": [
    "user_messages = [\n",
    "  \"La performance du système est plus lente que d'habitude.\",  # System performance is slower than normal         \n",
    "  \"Mi monitor tiene píxeles que no se iluminan.\",              # My monitor has pixels that are not lighting\n",
    "  \"Il mio mouse non funziona\",                                 # My mouse is not working\n",
    "  \"Mój klawisz Ctrl jest zepsuty\",                             # My keyboard has a broken control key\n",
    "  \"我的屏幕在闪烁\"                                               # My screen is flashing\n",
    "] "
   ]
  },
  {
   "cell_type": "code",
   "execution_count": null,
   "id": "7895d301",
   "metadata": {},
   "outputs": [],
   "source": [
    "for issue in user_messages:\n",
    "    prompt = f\"Tell me what language this is: ```{issue}```\"\n",
    "    lang = get_completion(prompt)\n",
    "    print(f\"Original message ({lang}): {issue}\")\n",
    "\n",
    "    prompt = f\"\"\"\n",
    "    Translate the following  text to English \\\n",
    "    and Korean: ```{issue}```\n",
    "    \"\"\"\n",
    "    response = get_completion(prompt)\n",
    "    print(response, \"\\n\")"
   ]
  },
  {
   "cell_type": "markdown",
   "id": "f2b25919",
   "metadata": {},
   "source": [
    "OUTPUT: <br>\n",
    "Original message (The language is French.): La performance du système est plus lente que d'habitude.<br>\n",
    "The performance of the system is slower than usual.<br>\n",
    "<br><br>\n",
    "시스템의 성능이 평소보다 느립니다. <br>\n",
    "<br><br>\n",
    "Original message (The language is Spanish.): Mi monitor tiene píxeles que no se iluminan.<br>\n",
    "English: \"My monitor has pixels that do not light up.\"<br>\n",
    "<br><br>\n",
    "Korean: \"내 모니터에는 밝아지지 않는 픽셀이 있습니다.\" (Nae moniteoeneun balkaji-ji anhneun piksel-i issseumnida.) <br>\n",
    "<br><br>\n",
    "Original message (The language is Italian.): Il mio mouse non funziona<br>\n",
    "English: \"My mouse is not working.\"<br>\n",
    "Korean: \"내 마우스가 작동하지 않습니다.\" <br>\n",
    "<br><br>\n",
    "Original message (The language is Polish.): Mój klawisz Ctrl jest zepsuty<br>\n",
    "English: \"My Ctrl key is broken\"<br>\n",
    "Korean: \"내 Ctrl 키가 고장 났어요\" <br>\n",
    "<br><br>\n",
    "Original message (The language is Chinese.): 我的屏幕在闪烁<br>\n",
    "English: My screen is flickering.<br>\n",
    "Korean: 내 화면이 깜박거립니다. <br>"
   ]
  },
  {
   "cell_type": "markdown",
   "id": "ecb3a016",
   "metadata": {},
   "source": [
    "## Tone Transformation\n",
    "Writing can vary based on the intended audience. ChatGPT can produce different tones.\n"
   ]
  },
  {
   "cell_type": "code",
   "execution_count": null,
   "id": "1e3bfa84",
   "metadata": {},
   "outputs": [],
   "source": [
    "prompt = f\"\"\"\n",
    "Translate the following from slang to a business letter: \n",
    "'Dude, This is Joe, check out this spec on this standing lamp.'\n",
    "\"\"\"\n",
    "response = get_completion(prompt)\n",
    "print(response)"
   ]
  },
  {
   "cell_type": "markdown",
   "id": "3a459a5a",
   "metadata": {},
   "source": [
    "OUTPUT: Dear Sir/Madam,\n",
    "\n",
    "I hope this message finds you well. I am writing to bring your attention to a remarkable specification of a standing lamp that I believe may be of interest to you.\n",
    "\n",
    "Thank you for your time and consideration.\n",
    "\n",
    "Best regards,\n",
    "\n",
    "Joe"
   ]
  },
  {
   "cell_type": "markdown",
   "id": "cf2e31b7",
   "metadata": {},
   "source": [
    "## Format Conversion\n",
    "ChatGPT can translate between formats. The prompt should describe the input and output formats."
   ]
  },
  {
   "cell_type": "code",
   "execution_count": null,
   "id": "77f4f61c",
   "metadata": {},
   "outputs": [],
   "source": [
    "data_json = { \"resturant employees\" :[ \n",
    "    {\"name\":\"Shyam\", \"email\":\"shyamjaiswal@gmail.com\"},\n",
    "    {\"name\":\"Bob\", \"email\":\"bob32@gmail.com\"},\n",
    "    {\"name\":\"Jai\", \"email\":\"jai87@gmail.com\"}\n",
    "]}\n",
    "\n",
    "prompt = f\"\"\"\n",
    "Translate the following python dictionary from JSON to an HTML \\\n",
    "table with column headers and title: {data_json}\n",
    "\"\"\"\n",
    "response = get_completion(prompt)\n",
    "print(response)"
   ]
  },
  {
   "cell_type": "markdown",
   "id": "975f4e54",
   "metadata": {},
   "source": [
    "<!DOCTYPE html>\n",
    "<html>\n",
    "<head>\n",
    "<style>\n",
    "table {\n",
    "  font-family: arial, sans-serif;\n",
    "  border-collapse: collapse;\n",
    "  width: 100%;\n",
    "}\n",
    "\n",
    "td, th {\n",
    "  border: 1px solid #dddddd;\n",
    "  text-align: left;\n",
    "  padding: 8px;\n",
    "}\n",
    "\n",
    "tr:nth-child(even) {\n",
    "  background-color: #dddddd;\n",
    "}\n",
    "</style>\n",
    "</head>\n",
    "<body>\n",
    "\n",
    "<h2>Restaurant Employees</h2>\n",
    "\n",
    "<table>\n",
    "  <tr>\n",
    "    <th>Name</th>\n",
    "    <th>Email</th>\n",
    "  </tr>\n",
    "  <tr>\n",
    "    <td>Shyam</td>\n",
    "    <td>shyamjaiswal@gmail.com</td>\n",
    "  </tr>\n",
    "  <tr>\n",
    "    <td>Bob</td>\n",
    "    <td>bob32@gmail.com</td>\n",
    "  </tr>\n",
    "  <tr>\n",
    "    <td>Jai</td>\n",
    "    <td>jai87@gmail.com</td>\n",
    "  </tr>\n",
    "</table>\n",
    "\n",
    "</body>\n",
    "</html>"
   ]
  },
  {
   "cell_type": "code",
   "execution_count": null,
   "id": "2b52e4e0",
   "metadata": {},
   "outputs": [],
   "source": [
    "from IPython.display import display, Markdown, Latex, HTML, JSON\n",
    "display(HTML(response))"
   ]
  },
  {
   "cell_type": "markdown",
   "id": "9f86ea0c",
   "metadata": {},
   "source": [
    "OUTPUT:\n",
    "    <!DOCTYPE html>\n",
    "<html>\n",
    "<head>\n",
    "<style>\n",
    "table {\n",
    "  font-family: arial, sans-serif;\n",
    "  border-collapse: collapse;\n",
    "  width: 100%;\n",
    "}\n",
    "\n",
    "td, th {\n",
    "  border: 1px solid #dddddd;\n",
    "  text-align: left;\n",
    "  padding: 8px;\n",
    "}\n",
    "\n",
    "tr:nth-child(even) {\n",
    "  background-color: #dddddd;\n",
    "}\n",
    "</style>\n",
    "</head>\n",
    "<body>\n",
    "\n",
    "<h2>Restaurant Employees</h2>\n",
    "\n",
    "<table>\n",
    "  <tr>\n",
    "    <th>Name</th>\n",
    "    <th>Email</th>\n",
    "  </tr>\n",
    "  <tr>\n",
    "    <td>Shyam</td>\n",
    "    <td>shyamjaiswal@gmail.com</td>\n",
    "  </tr>\n",
    "  <tr>\n",
    "    <td>Bob</td>\n",
    "    <td>bob32@gmail.com</td>\n",
    "  </tr>\n",
    "  <tr>\n",
    "    <td>Jai</td>\n",
    "    <td>jai87@gmail.com</td>\n",
    "  </tr>\n",
    "</table>\n",
    "\n",
    "</body>\n",
    "</html>"
   ]
  },
  {
   "cell_type": "markdown",
   "id": "84549afd",
   "metadata": {},
   "source": [
    "## Spellcheck/Grammar check.\n",
    "\n",
    "Here are some examples of common grammar and spelling problems and the LLM's response. \n",
    "\n",
    "To signal to the LLM that you want it to proofread your text, you instruct the model to 'proofread' or 'proofread and correct'."
   ]
  },
  {
   "cell_type": "code",
   "execution_count": null,
   "id": "03296841",
   "metadata": {},
   "outputs": [],
   "source": [
    "text = [ \n",
    "  \"The girl with the black and white puppies have a ball.\",  # The girl has a ball.\n",
    "  \"Yolanda has her notebook.\", # ok\n",
    "  \"Its going to be a long day. Does the car need it’s oil changed?\",  # Homonyms\n",
    "  \"Their goes my freedom. There going to bring they’re suitcases.\",  # Homonyms\n",
    "  \"Your going to need you’re notebook.\",  # Homonyms\n",
    "  \"That medicine effects my ability to sleep. Have you heard of the butterfly affect?\", # Homonyms\n",
    "  \"This phrase is to cherck chatGPT for speling abilitty\"  # spelling\n",
    "]\n",
    "for t in text:\n",
    "    prompt = f\"\"\"Proofread and correct the following text\n",
    "    and rewrite the corrected version. If you don't find\n",
    "    and errors, just say \"No errors found\". Don't use \n",
    "    any punctuation around the text:\n",
    "    ```{t}```\"\"\"\n",
    "    response = get_completion(prompt)\n",
    "    print(response)"
   ]
  },
  {
   "cell_type": "markdown",
   "id": "37da5dbb",
   "metadata": {},
   "source": [
    "OUTPUT: The girl with the black and white puppies has a ball.\n",
    "No errors found.\n",
    "It's going to be a long day. Does the car need its oil changed?\n",
    "There goes my freedom. They're going to bring their suitcases.\n",
    "You're going to need your notebook.\n",
    "That medicine affects my ability to sleep. Have you heard of the butterfly effect?\n",
    "This phrase is to check chatGPT for spelling ability."
   ]
  },
  {
   "cell_type": "code",
   "execution_count": null,
   "id": "0695ae9e",
   "metadata": {},
   "outputs": [],
   "source": [
    "text = f\"\"\"\n",
    "Got this for my daughter for her birthday cuz she keeps taking \\\n",
    "mine from my room.  Yes, adults also like pandas too.  She takes \\\n",
    "it everywhere with her, and it's super soft and cute.  One of the \\\n",
    "ears is a bit lower than the other, and I don't think that was \\\n",
    "designed to be asymmetrical. It's a bit small for what I paid for it \\\n",
    "though. I think there might be other options that are bigger for \\\n",
    "the same price.  It arrived a day earlier than expected, so I got \\\n",
    "to play with it myself before I gave it to my daughter.\n",
    "\"\"\"\n",
    "prompt = f\"proofread and correct this review: ```{text}```\"\n",
    "response = get_completion(prompt)\n",
    "print(response)"
   ]
  },
  {
   "cell_type": "markdown",
   "id": "44f637e0",
   "metadata": {},
   "source": [
    "OUTPUT: Got this for my daughter for her birthday because she keeps taking mine from my room. Yes, adults also like pandas too. She takes it everywhere with her, and it's super soft and cute. However, one of the ears is a bit lower than the other, and I don't think that was designed to be asymmetrical. Additionally, it's a bit small for what I paid for it. I believe there might be other options that are bigger for the same price. On the positive side, it arrived a day earlier than expected, so I got to play with it myself before I gave it to my daughter."
   ]
  },
  {
   "cell_type": "markdown",
   "id": "beae7048",
   "metadata": {},
   "source": [
    "from redlines import Redlines\n",
    "\n",
    "diff = Redlines(text,response)\n",
    "display(Markdown(diff.output_markdown))"
   ]
  },
  {
   "cell_type": "markdown",
   "id": "57a75c2c",
   "metadata": {},
   "source": [
    "OUTPUT:<br>'Got this for my daughter for her birthday <span style=\"color:red;font-weight:700;text-decoration:line-through;\">cuz </span><span style=\"color:red;font-weight:700;\">because </span>she keeps taking mine from my <span style=\"color:red;font-weight:700;text-decoration:line-through;\">room.  </span><span style=\"color:red;font-weight:700;\">room. </span>Yes, adults also like pandas <span style=\"color:red;font-weight:700;text-decoration:line-through;\">too.  </span><span style=\"color:red;font-weight:700;\">too. </span>She takes it everywhere with her, and it\\'s super soft and <span style=\"color:red;font-weight:700;text-decoration:line-through;\">cute.  One </span><span style=\"color:red;font-weight:700;\">cute. However, one </span>of the ears is a bit lower than the other, and I don\\'t think that was designed to be asymmetrical. <span style=\"color:red;font-weight:700;text-decoration:line-through;\">It\\'s </span><span style=\"color:red;font-weight:700;\">Additionally, it\\'s </span>a bit small for what I paid for <span style=\"color:red;font-weight:700;text-decoration:line-through;\">it though. </span><span style=\"color:red;font-weight:700;\">it. </span>I <span style=\"color:red;font-weight:700;text-decoration:line-through;\">think </span><span style=\"color:red;font-weight:700;\">believe </span>there might be other options that are bigger for the same <span style=\"color:red;font-weight:700;text-decoration:line-through;\">price.  It </span><span style=\"color:red;font-weight:700;\">price. On the positive side, it </span>arrived a day earlier than expected, so I got to play with it myself before I gave it to my <span style=\"color:red;font-weight:700;text-decoration:line-through;\">daughter.\\n</span><span style=\"color:red;font-weight:700;\">daughter.</span>'"
   ]
  },
  {
   "cell_type": "code",
   "execution_count": null,
   "id": "3ba921ad",
   "metadata": {},
   "outputs": [],
   "source": [
    "prompt = f\"\"\"\n",
    "proofread and correct this review. Make it more compelling. \n",
    "Ensure it follows APA style guide and targets an advanced reader. \n",
    "Output in markdown format.\n",
    "Text: ```{text}```\n",
    "\"\"\"\n",
    "response = get_completion(prompt)\n",
    "display(Markdown(response))"
   ]
  },
  {
   "cell_type": "markdown",
   "id": "9e05ec70",
   "metadata": {},
   "source": [
    "\"**Title: A Delightful Gift for All Ages: A Review of the Adorable Panda Plush Toy**\\n\\n*Introduction*\\n\\nPurchasing a gift that appeals to both children and adults can be quite a challenge. However, I recently stumbled upon a remarkable solution - the Panda Plush Toy. In this review, I will share my experience with this delightful gift, highlighting its irresistible charm, exceptional softness, and unexpected versatility. While there were a few minor imperfections, the overall quality and prompt delivery exceeded my expectations. Join me as I delve into the enchanting world of this captivating panda plush toy.\\n\\n*Review*\\n\\nAs a parent, I understand the struggle of keeping personal belongings safe from curious little hands. That's why I decided to surprise my daughter with the Panda Plush Toy for her birthday. To my surprise, this adorable companion instantly won my heart as well. Its irresistible charm transcends age boundaries, making it a perfect gift for both children and adults alike.\\n\\nThe first thing that struck me about this plush toy was its exceptional softness. Crafted with meticulous attention to detail, the plush material envelops you in a cloud of comfort. Its velvety texture is a testament to the superior craftsmanship that went into its creation. Whether you're cuddling up on the couch or taking it on adventures, the Panda Plush Toy is a constant source of tactile pleasure.\\n\\nWhile the overall design of the toy is impeccable, I did notice a slight asymmetry in the placement of the ears. Although this may not have been intentional, it adds a unique touch to the toy's character. However, I must admit that the size of the toy was slightly smaller than anticipated, considering its price. It would be beneficial for potential buyers to explore alternative options that offer a larger size for the same price.\\n\\nDespite this minor setback, I was pleasantly surprised by the prompt delivery of the Panda Plush Toy. Arriving a day earlier than expected, it provided me with an opportunity to experience its charm firsthand. I couldn't resist playing with it myself before presenting it to my daughter, and I must say, it brought a smile to my face as well.\\n\\n*Conclusion*\\n\\nIn conclusion, the Panda Plush Toy is a captivating gift that transcends age boundaries. Its exceptional softness, irresistible charm, and unexpected versatility make it a perfect companion for both children and adults. While there were minor imperfections, such as the asymmetrical eafrom redlines import Redlinesrs and the slightly smaller size, the overall quality and prompt delivery exceeded my expectations. If you're searching for a gift that will bring joy and comfort to your loved ones, the Panda Plush Toy is an excellent choice.\""
   ]
  },
  {
   "cell_type": "markdown",
   "id": "ac284c42",
   "metadata": {},
   "source": [
    "Title: A Delightful Gift for All Ages: A Review of the Adorable Panda Plush Toy\n",
    "Introduction\n",
    "Purchasing a gift that appeals to both children and adults can be quite a challenge. However, I recently stumbled upon a remarkable solution - the Panda Plush Toy. In this review, I will share my experience with this delightful gift, highlighting its irresistible charm, exceptional softness, and unexpected versatility. While there were a few minor imperfections, the overall quality and prompt delivery exceeded my expectations. Join me as I delve into the enchanting world of this captivating panda plush toy.\n",
    "Review\n",
    "As a parent, I understand the struggle of keeping personal belongings safe from curious little hands. That's why I decided to surprise my daughter with the Panda Plush Toy for her birthday. To my surprise, this adorable companion instantly won my heart as well. Its irresistible charm transcends age boundaries, making it a perfect gift for both children and adults alike.\n",
    "The first thing that struck me about this plush toy was its exceptional softness. Crafted with meticulous attention to detail, the plush material envelops you in a cloud of comfort. Its velvety texture is a testament to the superior craftsmanship that went into its creation. Whether you're cuddling up on the couch or taking it on adventures, the Panda Plush Toy is a constant source of tactile pleasure.\n",
    "While the overall design of the toy is impeccable, I did notice a slight asymmetry in the placement of the ears. Although this may not have been intentional, it adds a unique touch to the toy's character. However, I must admit that the size of the toy was slightly smaller than anticipated, considering its price. It would be beneficial for potential buyers to explore alternative options that offer a larger size for the same price.\n",
    "Despite this minor setback, I was pleasantly surprised by the prompt delivery of the Panda Plush Toy. Arriving a day earlier than expected, it provided me with an opportunity to experience its charm firsthand. I couldn't resist playing with it myself before presenting it to my daughter, and I must say, it brought a smile to my face as well.\n",
    "Conclusion\n",
    "In conclusion, the Panda Plush Toy is a captivating gift that transcends age boundaries. Its exceptional softness, irresistible charm, and unexpected versatility make it a perfect companion for both children and adults. While there were minor imperfections, such as the asymmetrical ears and the slightly smaller size, the overall quality and prompt delivery exceeded my expectations. If you're searching for a gift that will bring joy and comfort to your loved ones, the Panda Plush Toy is an excellent choice."
   ]
  }
 ],
 "metadata": {
  "kernelspec": {
   "display_name": "Python 3 (ipykernel)",
   "language": "python",
   "name": "python3"
  },
  "language_info": {
   "codemirror_mode": {
    "name": "ipython",
    "version": 3
   },
   "file_extension": ".py",
   "mimetype": "text/x-python",
   "name": "python",
   "nbconvert_exporter": "python",
   "pygments_lexer": "ipython3",
   "version": "3.9.13"
  }
 },
 "nbformat": 4,
 "nbformat_minor": 5
}
